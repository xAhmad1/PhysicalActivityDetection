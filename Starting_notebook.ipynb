{
 "cells": [
  {
   "cell_type": "markdown",
   "metadata": {},
   "source": [
    "# Physical Activity Prediction"
   ]
  },
  {
   "cell_type": "markdown",
   "metadata": {},
   "source": [
    "## Team (M2 Data Science - IP Paris):\n",
    " - **Abed El Kader EL SHAAR**\n",
    " - **Ahmad AL MASRI**\n",
    " - **Ahmad KHALIFE**\n",
    " - **Hadi JABER**\n",
    " - **Karen KHOURY**\n",
    " - **Sara GHAMLMOUSH**"
   ]
  },
  {
   "cell_type": "code",
   "execution_count": 12,
   "metadata": {},
   "outputs": [],
   "source": [
    "import os\n",
    "import tarfile\n",
    "\n",
    "def recursive_files(dir_name='.', ignore=None):\n",
    "    for dir_name,subdirs,files in os.walk(dir_name):\n",
    "        if ignore and os.path.basename(dir_name) in ignore: \n",
    "            continue\n",
    "\n",
    "        for file_name in files:\n",
    "            if ignore and file_name in ignore:\n",
    "                continue\n",
    "\n",
    "            yield os.path.join(dir_name, file_name)\n",
    "\n",
    "def make_tar_file(dir_name='.', tar_file_name='tarfile.tar', ignore=None):\n",
    "    tar = tarfile.open(tar_file_name, 'w')\n",
    "\n",
    "    for file_name in recursive_files(dir_name, ignore):\n",
    "        tar.add(file_name)\n",
    "\n",
    "    tar.close()\n",
    "\n",
    "\n",
    "dir_name = '.'\n",
    "tar_file_name = 'DatacampGroup.tar'\n",
    "ignore = {'.ipynb_checkpoints', '__pycache__', tar_file_name}\n",
    "make_tar_file(dir_name, tar_file_name, ignore)"
   ]
  },
  {
   "cell_type": "markdown",
   "metadata": {},
   "source": [
    "### Introduction"
   ]
  },
  {
   "cell_type": "markdown",
   "metadata": {},
   "source": [
    "Physical activity plays an important role in controlling obesity and maintaining a healthy living. It becomes increasingly important during a pandemic due to restrictions on outdoor activities.\n",
    "Tracking physical activities using miniature wearable sensors and state-of-the-art machine learning\n",
    "techniques can encourage healthy living and control obesity. \n",
    "\n",
    "This project focuses on introducing novel techniques to identify and log physical activities using machine learning techniques and wearable sensors. Physical activities performed in daily life are often unstructured and unplanned, and one\n",
    "activity or set of activities (sitting, standing) might be more frequent than others (walking, stairs\n",
    "up, stairs down).\n",
    "\n",
    "The dataset used is [PAMAP2](https://archive.ics.uci.edu/ml/datasets/PAMAP2+Physical+Activity+Monitoring) which is an Activity Monitoring dataset that covers 18 different physical activities done by 9 different subjects (8 men and 1 woman), recorded using 3 inertial measurement units and a heart rate monitor.\n",
    "\n",
    "The outcome of this project should be to be able to classify activities based on the different sensors readings, and thus gain insights on what muscles are used to do different activities and what activities might be easier or more common than others."
   ]
  },
  {
   "cell_type": "markdown",
   "metadata": {},
   "source": [
    "### Getting the data"
   ]
  },
  {
   "cell_type": "markdown",
   "metadata": {},
   "source": [
    "To get the data, simply invoke download_data.py as follow:"
   ]
  },
  {
   "cell_type": "code",
   "execution_count": 1,
   "metadata": {},
   "outputs": [
    {
     "name": "stdout",
     "output_type": "stream",
     "text": [
      "Downloading data...\n",
      "Extracting data...\n",
      "Done\n"
     ]
    }
   ],
   "source": [
    "%run download_data.py"
   ]
  },
  {
   "cell_type": "code",
   "execution_count": 2,
   "metadata": {},
   "outputs": [],
   "source": [
    "# Imports\n",
    "import numpy as np\n",
    "import pandas as pd\n",
    "import matplotlib.pyplot as plt"
   ]
  },
  {
   "cell_type": "markdown",
   "metadata": {},
   "source": [
    "### Preparations done on the data\n",
    "\n",
    "We have prepared our data in such a way that:\n",
    "- The public training data consists of activities performed by subjects : 1, 2, 3, 4, 9\n",
    "- The public testing data consists of activities performed by subjects : 6, 7\n",
    "- The private data (hidden from the user) consists of activites performed by subject : 8\n",
    "\n",
    "The evaluation metrics will be based on the negative log loss and the accuracy, we will measure these metrics using a LeaveOneGroupOut crossvalidation where at each fold we train on all subjects except for one."
   ]
  },
  {
   "cell_type": "markdown",
   "metadata": {},
   "source": [
    "### Inspecting the data"
   ]
  },
  {
   "cell_type": "code",
   "execution_count": 3,
   "metadata": {},
   "outputs": [],
   "source": [
    "from problem import get_train_data\n",
    "\n",
    "data_train, labels_train = get_train_data()"
   ]
  },
  {
   "cell_type": "code",
   "execution_count": 4,
   "metadata": {},
   "outputs": [
    {
     "name": "stdout",
     "output_type": "stream",
     "text": [
      "<class 'pandas.core.frame.DataFrame'>\n",
      "RangeIndex: 1197898 entries, 0 to 1197897\n",
      "Data columns (total 54 columns):\n",
      " #   Column             Non-Null Count    Dtype  \n",
      "---  ------             --------------    -----  \n",
      " 0   timestamp          1197898 non-null  float64\n",
      " 1   heartrate          1197898 non-null  float64\n",
      " 2   handTemperature    1197898 non-null  float64\n",
      " 3   handAcc16_1        1197898 non-null  float64\n",
      " 4   handAcc16_2        1197898 non-null  float64\n",
      " 5   handAcc16_3        1197898 non-null  float64\n",
      " 6   handAcc6_1         1197898 non-null  float64\n",
      " 7   handAcc6_2         1197898 non-null  float64\n",
      " 8   handAcc6_3         1197898 non-null  float64\n",
      " 9   handGyro1          1197898 non-null  float64\n",
      " 10  handGyro2          1197898 non-null  float64\n",
      " 11  handGyro3          1197898 non-null  float64\n",
      " 12  handMagne1         1197898 non-null  float64\n",
      " 13  handMagne2         1197898 non-null  float64\n",
      " 14  handMagne3         1197898 non-null  float64\n",
      " 15  handOrientation1   1197898 non-null  float64\n",
      " 16  handOrientation2   1197898 non-null  float64\n",
      " 17  handOrientation3   1197898 non-null  float64\n",
      " 18  handOrientation4   1197898 non-null  float64\n",
      " 19  chestTemperature   1197898 non-null  float64\n",
      " 20  chestAcc16_1       1197898 non-null  float64\n",
      " 21  chestAcc16_2       1197898 non-null  float64\n",
      " 22  chestAcc16_3       1197898 non-null  float64\n",
      " 23  chestAcc6_1        1197898 non-null  float64\n",
      " 24  chestAcc6_2        1197898 non-null  float64\n",
      " 25  chestAcc6_3        1197898 non-null  float64\n",
      " 26  chestGyro1         1197898 non-null  float64\n",
      " 27  chestGyro2         1197898 non-null  float64\n",
      " 28  chestGyro3         1197898 non-null  float64\n",
      " 29  chestMagne1        1197898 non-null  float64\n",
      " 30  chestMagne2        1197898 non-null  float64\n",
      " 31  chestMagne3        1197898 non-null  float64\n",
      " 32  chestOrientation1  1197898 non-null  float64\n",
      " 33  chestOrientation2  1197898 non-null  float64\n",
      " 34  chestOrientation3  1197898 non-null  float64\n",
      " 35  chestOrientation4  1197898 non-null  float64\n",
      " 36  ankleTemperature   1197898 non-null  float64\n",
      " 37  ankleAcc16_1       1197898 non-null  float64\n",
      " 38  ankleAcc16_2       1197898 non-null  float64\n",
      " 39  ankleAcc16_3       1197898 non-null  float64\n",
      " 40  ankleAcc6_1        1197898 non-null  float64\n",
      " 41  ankleAcc6_2        1197898 non-null  float64\n",
      " 42  ankleAcc6_3        1197898 non-null  float64\n",
      " 43  ankleGyro1         1197898 non-null  float64\n",
      " 44  ankleGyro2         1197898 non-null  float64\n",
      " 45  ankleGyro3         1197898 non-null  float64\n",
      " 46  ankleMagne1        1197898 non-null  float64\n",
      " 47  ankleMagne2        1197898 non-null  float64\n",
      " 48  ankleMagne3        1197898 non-null  float64\n",
      " 49  ankleOrientation1  1197898 non-null  float64\n",
      " 50  ankleOrientation2  1197898 non-null  float64\n",
      " 51  ankleOrientation3  1197898 non-null  float64\n",
      " 52  ankleOrientation4  1197898 non-null  float64\n",
      " 53  subject_id         1197898 non-null  int64  \n",
      "dtypes: float64(53), int64(1)\n",
      "memory usage: 493.5 MB\n"
     ]
    }
   ],
   "source": [
    "data_train.info()"
   ]
  },
  {
   "cell_type": "markdown",
   "metadata": {},
   "source": [
    "An IMU sensor was used to capture measurements related to the hand, chest and ankle.\n",
    "For instance : \n",
    "\n",
    "- 1 : hand temperature (°C)\n",
    "- 2-4 : hand 3D-acceleration data (ms-2), scale: ±16g, resolution: 13-bit\n",
    "- 5-7 : hand 3D-acceleration data (ms-2), scale: ±6g, resolution: 13-bit*\n",
    "- 8-10 : hand 3D-gyroscope data (rad/s)\n",
    "- 11-13 : hand 3D-magnetometer data (μT)\n",
    "- 14-17 : hand orientation (invalid in this data collection)"
   ]
  },
  {
   "cell_type": "markdown",
   "metadata": {},
   "source": [
    "## Exploratory Data Analysis"
   ]
  },
  {
   "cell_type": "code",
   "execution_count": 5,
   "metadata": {},
   "outputs": [
    {
     "data": {
      "text/plain": [
       "count    1.197898e+06\n",
       "mean     1.100257e+02\n",
       "std      2.573248e+01\n",
       "min      5.700000e+01\n",
       "25%      8.900000e+01\n",
       "50%      1.090000e+02\n",
       "75%      1.260000e+02\n",
       "max      1.830000e+02\n",
       "Name: heartrate, dtype: float64"
      ]
     },
     "execution_count": 5,
     "metadata": {},
     "output_type": "execute_result"
    }
   ],
   "source": [
    "data_train['heartrate'].describe()"
   ]
  },
  {
   "cell_type": "markdown",
   "metadata": {},
   "source": [
    "We can see a big difference between the min and max value of Heartrates, those may be outliers, or just the idea that Heartrate differs vastly between different activities ."
   ]
  },
  {
   "cell_type": "code",
   "execution_count": 6,
   "metadata": {},
   "outputs": [
    {
     "data": {
      "image/png": "[encoded data removed]",
      "text/plain": [
       "<Figure size 400x400 with 1 Axes>"
      ]
     },
     "metadata": {},
     "output_type": "display_data"
    }
   ],
   "source": [
    "import seaborn as sns\n",
    "\n",
    "fig, ax = plt.subplots(figsize=(4,4))\n",
    "ax = sns.boxplot(y=data_train[\"heartrate\"]);"
   ]
  },
  {
   "cell_type": "markdown",
   "metadata": {},
   "source": [
    "Looking at the box plot, we can see that values bigger than 180 are classified as outliers. <br>\n",
    "To find the most cumbersome activities we can plot a bar chart showing the mean values of heart rates for each activity:"
   ]
  },
  {
   "cell_type": "code",
   "execution_count": 7,
   "metadata": {},
   "outputs": [
    {
     "data": {
      "text/plain": [
       "<AxesSubplot:xlabel='activityID'>"
      ]
     },
     "execution_count": 7,
     "metadata": {},
     "output_type": "execute_result"
    },
    {
     "data": {
      "image/png": "[encoded data removed]",
      "text/plain": [
       "<Figure size 640x480 with 1 Axes>"
      ]
     },
     "metadata": {},
     "output_type": "display_data"
    }
   ],
   "source": [
    "concat_data = pd.concat([data_train,pd.DataFrame(labels_train, columns =['activityID'])],axis = 1)\n",
    "df_grp = concat_data.groupby('activityID').agg({'heartrate': 'mean'})\n",
    "df_grp.index = df_grp.index.map(activityIDdict)\n",
    "df_grp.plot(kind='bar')"
   ]
  },
  {
   "cell_type": "markdown",
   "metadata": {},
   "source": [
    "The bar chart shows that Rope Jumping and Running are the most cumbersome activities out of all the activities, and those might be the reason some heartrates are above 180 (and thus not outliers)."
   ]
  },
  {
   "cell_type": "markdown",
   "metadata": {},
   "source": [
    "#### Checking if the data is balanced"
   ]
  },
  {
   "cell_type": "code",
   "execution_count": 8,
   "metadata": {},
   "outputs": [
    {
     "data": {
      "image/png": "[encoded data removed]",
      "text/plain": [
       "<Figure size 1200x600 with 1 Axes>"
      ]
     },
     "metadata": {},
     "output_type": "display_data"
    }
   ],
   "source": [
    "concat_data['activityID'].value_counts().plot(kind = \"bar\",figsize = (12,6))\n",
    "plt.show()"
   ]
  },
  {
   "cell_type": "markdown",
   "metadata": {},
   "source": [
    "As the above plot shows, classes are mostly balanced, with activity 24 being the least exercised.<br>"
   ]
  },
  {
   "cell_type": "markdown",
   "metadata": {},
   "source": [
    "### Ramp test"
   ]
  },
  {
   "cell_type": "code",
   "execution_count": 9,
   "metadata": {},
   "outputs": [
    {
     "name": "stdout",
     "output_type": "stream",
     "text": [
      "\u001b[38;5;178m\u001b[1mTesting Physical Activity Prediction\u001b[0m\n",
      "\u001b[38;5;178m\u001b[1mReading train and test files from ./data/ ...\u001b[0m\n",
      "\u001b[38;5;178m\u001b[1mReading cv ...\u001b[0m\n",
      "\u001b[38;5;178m\u001b[1mTraining submissions/starting_kit ...\u001b[0m\n",
      "\u001b[38;5;178m\u001b[1mCV fold 0\u001b[0m\n",
      "/home/infres/aalmasri-21/.local/lib/python3.10/site-packages/sklearn/linear_model/_logistic.py:444: ConvergenceWarning: lbfgs failed to converge (status=1):\n",
      "STOP: TOTAL NO. of ITERATIONS REACHED LIMIT.\n",
      "\n",
      "Increase the number of iterations (max_iter) or scale the data as shown in:\n",
      "    https://scikit-learn.org/stable/modules/preprocessing.html\n",
      "Please also refer to the documentation for alternative solver options:\n",
      "    https://scikit-learn.org/stable/modules/linear_model.html#logistic-regression\n",
      "  n_iter_i = _check_optimize_result(\n",
      "\t\u001b[38;5;178m\u001b[1mscore   nll   acc       time\u001b[0m\n",
      "\t\u001b[38;5;10m\u001b[1mtrain\u001b[0m  \u001b[38;5;10m\u001b[1m0.87\u001b[0m  \u001b[38;5;150m0.79\u001b[0m  \u001b[38;5;150m43.686052\u001b[0m\n",
      "\t\u001b[38;5;12m\u001b[1mvalid\u001b[0m  \u001b[38;5;12m\u001b[1m1.27\u001b[0m  \u001b[38;5;105m0.60\u001b[0m   \u001b[38;5;105m0.661851\u001b[0m\n",
      "\t\u001b[38;5;1m\u001b[1mtest\u001b[0m   \u001b[38;5;1m\u001b[1m0.66\u001b[0m  \u001b[38;5;218m0.79\u001b[0m   \u001b[38;5;218m0.339510\u001b[0m\n",
      "\u001b[38;5;178m\u001b[1mCV fold 1\u001b[0m\n",
      "/home/infres/aalmasri-21/.local/lib/python3.10/site-packages/sklearn/linear_model/_logistic.py:444: ConvergenceWarning: lbfgs failed to converge (status=1):\n",
      "STOP: TOTAL NO. of ITERATIONS REACHED LIMIT.\n",
      "\n",
      "Increase the number of iterations (max_iter) or scale the data as shown in:\n",
      "    https://scikit-learn.org/stable/modules/preprocessing.html\n",
      "Please also refer to the documentation for alternative solver options:\n",
      "    https://scikit-learn.org/stable/modules/linear_model.html#logistic-regression\n",
      "  n_iter_i = _check_optimize_result(\n",
      "\t\u001b[38;5;178m\u001b[1mscore   nll   acc       time\u001b[0m\n",
      "\t\u001b[38;5;10m\u001b[1mtrain\u001b[0m  \u001b[38;5;10m\u001b[1m0.84\u001b[0m  \u001b[38;5;150m0.81\u001b[0m  \u001b[38;5;150m42.126877\u001b[0m\n",
      "\t\u001b[38;5;12m\u001b[1mvalid\u001b[0m  \u001b[38;5;12m\u001b[1m1.28\u001b[0m  \u001b[38;5;105m0.61\u001b[0m   \u001b[38;5;105m0.624516\u001b[0m\n",
      "\t\u001b[38;5;1m\u001b[1mtest\u001b[0m   \u001b[38;5;1m\u001b[1m0.57\u001b[0m  \u001b[38;5;218m0.85\u001b[0m   \u001b[38;5;218m0.364137\u001b[0m\n",
      "\u001b[38;5;178m\u001b[1mCV fold 2\u001b[0m\n",
      "/home/infres/aalmasri-21/.local/lib/python3.10/site-packages/sklearn/linear_model/_logistic.py:444: ConvergenceWarning: lbfgs failed to converge (status=1):\n",
      "STOP: TOTAL NO. of ITERATIONS REACHED LIMIT.\n",
      "\n",
      "Increase the number of iterations (max_iter) or scale the data as shown in:\n",
      "    https://scikit-learn.org/stable/modules/preprocessing.html\n",
      "Please also refer to the documentation for alternative solver options:\n",
      "    https://scikit-learn.org/stable/modules/linear_model.html#logistic-regression\n",
      "  n_iter_i = _check_optimize_result(\n",
      "\t\u001b[38;5;178m\u001b[1mscore   nll   acc       time\u001b[0m\n",
      "\t\u001b[38;5;10m\u001b[1mtrain\u001b[0m  \u001b[38;5;10m\u001b[1m0.94\u001b[0m  \u001b[38;5;150m0.77\u001b[0m  \u001b[38;5;150m47.998827\u001b[0m\n",
      "\t\u001b[38;5;12m\u001b[1mvalid\u001b[0m  \u001b[38;5;12m\u001b[1m0.98\u001b[0m  \u001b[38;5;105m0.70\u001b[0m   \u001b[38;5;105m0.639081\u001b[0m\n",
      "\t\u001b[38;5;1m\u001b[1mtest\u001b[0m   \u001b[38;5;1m\u001b[1m0.68\u001b[0m  \u001b[38;5;218m0.83\u001b[0m   \u001b[38;5;218m0.345211\u001b[0m\n",
      "\u001b[38;5;178m\u001b[1mCV fold 3\u001b[0m\n",
      "/home/infres/aalmasri-21/.local/lib/python3.10/site-packages/sklearn/linear_model/_logistic.py:444: ConvergenceWarning: lbfgs failed to converge (status=1):\n",
      "STOP: TOTAL NO. of ITERATIONS REACHED LIMIT.\n",
      "\n",
      "Increase the number of iterations (max_iter) or scale the data as shown in:\n",
      "    https://scikit-learn.org/stable/modules/preprocessing.html\n",
      "Please also refer to the documentation for alternative solver options:\n",
      "    https://scikit-learn.org/stable/modules/linear_model.html#logistic-regression\n",
      "  n_iter_i = _check_optimize_result(\n",
      "\t\u001b[38;5;178m\u001b[1mscore   nll   acc       time\u001b[0m\n",
      "\t\u001b[38;5;10m\u001b[1mtrain\u001b[0m  \u001b[38;5;10m\u001b[1m0.90\u001b[0m  \u001b[38;5;150m0.79\u001b[0m  \u001b[38;5;150m44.986871\u001b[0m\n",
      "\t\u001b[38;5;12m\u001b[1mvalid\u001b[0m  \u001b[38;5;12m\u001b[1m0.81\u001b[0m  \u001b[38;5;105m0.70\u001b[0m   \u001b[38;5;105m0.628877\u001b[0m\n",
      "\t\u001b[38;5;1m\u001b[1mtest\u001b[0m   \u001b[38;5;1m\u001b[1m0.67\u001b[0m  \u001b[38;5;218m0.78\u001b[0m   \u001b[38;5;218m0.349649\u001b[0m\n",
      "\u001b[38;5;178m\u001b[1mCV fold 4\u001b[0m\n",
      "/home/infres/aalmasri-21/.local/lib/python3.10/site-packages/sklearn/linear_model/_logistic.py:444: ConvergenceWarning: lbfgs failed to converge (status=1):\n",
      "STOP: TOTAL NO. of ITERATIONS REACHED LIMIT.\n",
      "\n",
      "Increase the number of iterations (max_iter) or scale the data as shown in:\n",
      "    https://scikit-learn.org/stable/modules/preprocessing.html\n",
      "Please also refer to the documentation for alternative solver options:\n",
      "    https://scikit-learn.org/stable/modules/linear_model.html#logistic-regression\n",
      "  n_iter_i = _check_optimize_result(\n",
      "\t\u001b[38;5;178m\u001b[1mscore   nll   acc       time\u001b[0m\n",
      "\t\u001b[38;5;10m\u001b[1mtrain\u001b[0m  \u001b[38;5;10m\u001b[1m0.91\u001b[0m  \u001b[38;5;150m0.78\u001b[0m  \u001b[38;5;150m41.850731\u001b[0m\n",
      "\t\u001b[38;5;12m\u001b[1mvalid\u001b[0m  \u001b[38;5;12m\u001b[1m0.87\u001b[0m  \u001b[38;5;105m0.70\u001b[0m   \u001b[38;5;105m0.631190\u001b[0m\n",
      "\t\u001b[38;5;1m\u001b[1mtest\u001b[0m   \u001b[38;5;1m\u001b[1m0.69\u001b[0m  \u001b[38;5;218m0.78\u001b[0m   \u001b[38;5;218m0.347702\u001b[0m\n",
      "\u001b[38;5;178m\u001b[1mCV fold 5\u001b[0m\n",
      "/home/infres/aalmasri-21/.local/lib/python3.10/site-packages/sklearn/linear_model/_logistic.py:444: ConvergenceWarning: lbfgs failed to converge (status=1):\n",
      "STOP: TOTAL NO. of ITERATIONS REACHED LIMIT.\n",
      "\n",
      "Increase the number of iterations (max_iter) or scale the data as shown in:\n",
      "    https://scikit-learn.org/stable/modules/preprocessing.html\n",
      "Please also refer to the documentation for alternative solver options:\n",
      "    https://scikit-learn.org/stable/modules/linear_model.html#logistic-regression\n",
      "  n_iter_i = _check_optimize_result(\n",
      "\t\u001b[38;5;178m\u001b[1mscore    nll   acc       time\u001b[0m\n",
      "\t\u001b[38;5;10m\u001b[1mtrain\u001b[0m   \u001b[38;5;10m\u001b[1m0.64\u001b[0m  \u001b[38;5;150m0.79\u001b[0m  \u001b[38;5;150m54.722020\u001b[0m\n",
      "\t\u001b[38;5;12m\u001b[1mvalid\u001b[0m  \u001b[38;5;12m\u001b[1m34.54\u001b[0m  \u001b[38;5;105m0.00\u001b[0m   \u001b[38;5;105m0.622516\u001b[0m\n",
      "\t\u001b[38;5;1m\u001b[1mtest\u001b[0m    \u001b[38;5;1m\u001b[1m0.54\u001b[0m  \u001b[38;5;218m0.83\u001b[0m   \u001b[38;5;218m0.345926\u001b[0m\n",
      "\u001b[38;5;178m\u001b[1m----------------------------\u001b[0m\n",
      "\u001b[38;5;178m\u001b[1mMean CV scores\u001b[0m\n",
      "\u001b[38;5;178m\u001b[1m----------------------------\u001b[0m\n",
      "\t\u001b[38;5;178m\u001b[1mscore            nll           acc         time\u001b[0m\n",
      "\t\u001b[38;5;10m\u001b[1mtrain\u001b[0m     \u001b[38;5;10m\u001b[1m0.85\u001b[0m \u001b[38;5;150m\u001b[38;5;150m\u001b[38;5;150m±\u001b[0m\u001b[0m\u001b[0m \u001b[38;5;150m0.1\u001b[0m  \u001b[38;5;150m0.79\u001b[0m \u001b[38;5;150m\u001b[38;5;150m\u001b[38;5;150m±\u001b[0m\u001b[0m\u001b[0m \u001b[38;5;150m0.013\u001b[0m  \u001b[38;5;150m45.9\u001b[0m \u001b[38;5;150m\u001b[38;5;150m\u001b[38;5;150m±\u001b[0m\u001b[0m\u001b[0m \u001b[38;5;150m4.45\u001b[0m\n",
      "\t\u001b[38;5;12m\u001b[1mvalid\u001b[0m  \u001b[38;5;12m\u001b[1m6.62\u001b[0m \u001b[38;5;105m\u001b[38;5;105m\u001b[38;5;105m±\u001b[0m\u001b[0m\u001b[0m \u001b[38;5;105m12.485\u001b[0m  \u001b[38;5;105m0.55\u001b[0m \u001b[38;5;105m\u001b[38;5;105m\u001b[38;5;105m±\u001b[0m\u001b[0m\u001b[0m \u001b[38;5;105m0.251\u001b[0m   \u001b[38;5;105m0.6\u001b[0m \u001b[38;5;105m\u001b[38;5;105m\u001b[38;5;105m±\u001b[0m\u001b[0m\u001b[0m \u001b[38;5;105m0.01\u001b[0m\n",
      "\t\u001b[38;5;1m\u001b[1mtest\u001b[0m    \u001b[38;5;1m\u001b[1m0.64\u001b[0m \u001b[38;5;218m\u001b[38;5;218m\u001b[38;5;218m±\u001b[0m\u001b[0m\u001b[0m \u001b[38;5;218m0.059\u001b[0m  \u001b[38;5;218m0.81\u001b[0m \u001b[38;5;218m\u001b[38;5;218m\u001b[38;5;218m±\u001b[0m\u001b[0m\u001b[0m \u001b[38;5;218m0.028\u001b[0m   \u001b[38;5;218m0.3\u001b[0m \u001b[38;5;218m\u001b[38;5;218m\u001b[38;5;218m±\u001b[0m\u001b[0m\u001b[0m \u001b[38;5;218m0.01\u001b[0m\n",
      "\u001b[38;5;178m\u001b[1m----------------------------\u001b[0m\n",
      "\u001b[38;5;178m\u001b[1mBagged scores\u001b[0m\n",
      "\u001b[38;5;178m\u001b[1m----------------------------\u001b[0m\n",
      "\t\u001b[38;5;178m\u001b[1mscore   nll   acc\u001b[0m\n",
      "\t\u001b[38;5;12m\u001b[1mvalid\u001b[0m  \u001b[38;5;12m\u001b[1m1.23\u001b[0m  \u001b[38;5;105m0.66\u001b[0m\n",
      "\t\u001b[38;5;1m\u001b[1mtest\u001b[0m   \u001b[38;5;1m\u001b[1m0.61\u001b[0m  \u001b[38;5;218m0.84\u001b[0m\n"
     ]
    }
   ],
   "source": [
    "!ramp-test --submission starting_kit"
   ]
  },
  {
   "cell_type": "code",
   "execution_count": null,
   "metadata": {},
   "outputs": [],
   "source": []
  }
 ],
 "metadata": {
  "kernelspec": {
   "display_name": "Python 3 (ipykernel)",
   "language": "python",
   "name": "python3"
  },
  "language_info": {
   "codemirror_mode": {
    "name": "ipython",
    "version": 3
   },
   "file_extension": ".py",
   "mimetype": "text/x-python",
   "name": "python",
   "nbconvert_exporter": "python",
   "pygments_lexer": "ipython3",
   "version": "3.10.6"
  },
  "vscode": {
   "interpreter": {
    "hash": "49cb93f377a7abe7414b7b0f21fb3017538004a126cf690fb524202736b7fb92"
   }
  }
 },
 "nbformat": 4,
 "nbformat_minor": 2
}
